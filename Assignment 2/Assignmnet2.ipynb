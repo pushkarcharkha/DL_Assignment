{
  "nbformat": 4,
  "nbformat_minor": 0,
  "metadata": {
    "colab": {
      "provenance": []
    },
    "kernelspec": {
      "name": "python3",
      "display_name": "Python 3"
    },
    "language_info": {
      "name": "python"
    },
    "widgets": {
      "application/vnd.jupyter.widget-state+json": {
        "f2398c2d6dfe417cbfbb556b97227fa2": {
          "model_module": "@jupyter-widgets/controls",
          "model_name": "ButtonModel",
          "model_module_version": "1.5.0",
          "state": {
            "_dom_classes": [],
            "_model_module": "@jupyter-widgets/controls",
            "_model_module_version": "1.5.0",
            "_model_name": "ButtonModel",
            "_view_count": null,
            "_view_module": "@jupyter-widgets/controls",
            "_view_module_version": "1.5.0",
            "_view_name": "ButtonView",
            "button_style": "info",
            "description": "Capture & Verify",
            "disabled": false,
            "icon": "",
            "layout": "IPY_MODEL_d1cba48329544b7fb272d340f2d60264",
            "style": "IPY_MODEL_b1bc71776339443d87245ca6e61f2d16",
            "tooltip": ""
          }
        },
        "d1cba48329544b7fb272d340f2d60264": {
          "model_module": "@jupyter-widgets/base",
          "model_name": "LayoutModel",
          "model_module_version": "1.2.0",
          "state": {
            "_model_module": "@jupyter-widgets/base",
            "_model_module_version": "1.2.0",
            "_model_name": "LayoutModel",
            "_view_count": null,
            "_view_module": "@jupyter-widgets/base",
            "_view_module_version": "1.2.0",
            "_view_name": "LayoutView",
            "align_content": null,
            "align_items": null,
            "align_self": null,
            "border": null,
            "bottom": null,
            "display": null,
            "flex": null,
            "flex_flow": null,
            "grid_area": null,
            "grid_auto_columns": null,
            "grid_auto_flow": null,
            "grid_auto_rows": null,
            "grid_column": null,
            "grid_gap": null,
            "grid_row": null,
            "grid_template_areas": null,
            "grid_template_columns": null,
            "grid_template_rows": null,
            "height": null,
            "justify_content": null,
            "justify_items": null,
            "left": null,
            "margin": null,
            "max_height": null,
            "max_width": null,
            "min_height": null,
            "min_width": null,
            "object_fit": null,
            "object_position": null,
            "order": null,
            "overflow": null,
            "overflow_x": null,
            "overflow_y": null,
            "padding": null,
            "right": null,
            "top": null,
            "visibility": null,
            "width": null
          }
        },
        "b1bc71776339443d87245ca6e61f2d16": {
          "model_module": "@jupyter-widgets/controls",
          "model_name": "ButtonStyleModel",
          "model_module_version": "1.5.0",
          "state": {
            "_model_module": "@jupyter-widgets/controls",
            "_model_module_version": "1.5.0",
            "_model_name": "ButtonStyleModel",
            "_view_count": null,
            "_view_module": "@jupyter-widgets/base",
            "_view_module_version": "1.2.0",
            "_view_name": "StyleView",
            "button_color": null,
            "font_weight": ""
          }
        },
        "b1e6daed8305443fb67b5cce5d70f303": {
          "model_module": "@jupyter-widgets/output",
          "model_name": "OutputModel",
          "model_module_version": "1.0.0",
          "state": {
            "_dom_classes": [],
            "_model_module": "@jupyter-widgets/output",
            "_model_module_version": "1.0.0",
            "_model_name": "OutputModel",
            "_view_count": null,
            "_view_module": "@jupyter-widgets/output",
            "_view_module_version": "1.0.0",
            "_view_name": "OutputView",
            "layout": "IPY_MODEL_bc5f3d917a524d20813d46341c6af5c4",
            "msg_id": "",
            "outputs": []
          }
        },
        "bc5f3d917a524d20813d46341c6af5c4": {
          "model_module": "@jupyter-widgets/base",
          "model_name": "LayoutModel",
          "model_module_version": "1.2.0",
          "state": {
            "_model_module": "@jupyter-widgets/base",
            "_model_module_version": "1.2.0",
            "_model_name": "LayoutModel",
            "_view_count": null,
            "_view_module": "@jupyter-widgets/base",
            "_view_module_version": "1.2.0",
            "_view_name": "LayoutView",
            "align_content": null,
            "align_items": null,
            "align_self": null,
            "border": null,
            "bottom": null,
            "display": null,
            "flex": null,
            "flex_flow": null,
            "grid_area": null,
            "grid_auto_columns": null,
            "grid_auto_flow": null,
            "grid_auto_rows": null,
            "grid_column": null,
            "grid_gap": null,
            "grid_row": null,
            "grid_template_areas": null,
            "grid_template_columns": null,
            "grid_template_rows": null,
            "height": null,
            "justify_content": null,
            "justify_items": null,
            "left": null,
            "margin": null,
            "max_height": null,
            "max_width": null,
            "min_height": null,
            "min_width": null,
            "object_fit": null,
            "object_position": null,
            "order": null,
            "overflow": null,
            "overflow_x": null,
            "overflow_y": null,
            "padding": null,
            "right": null,
            "top": null,
            "visibility": null,
            "width": null
          }
        }
      }
    }
  },
  "cells": [
    {
      "cell_type": "code",
      "source": [
        "pip install js2py"
      ],
      "metadata": {
        "colab": {
          "base_uri": "https://localhost:8080/"
        },
        "id": "T-kU4hPltOqQ",
        "outputId": "3538703d-a39e-4fe6-ee4c-60ffcfe45a47"
      },
      "execution_count": null,
      "outputs": [
        {
          "output_type": "stream",
          "name": "stdout",
          "text": [
            "Requirement already satisfied: js2py in /usr/local/lib/python3.11/dist-packages (0.74)\n",
            "Requirement already satisfied: tzlocal>=1.2 in /usr/local/lib/python3.11/dist-packages (from js2py) (5.3.1)\n",
            "Requirement already satisfied: six>=1.10 in /usr/local/lib/python3.11/dist-packages (from js2py) (1.17.0)\n",
            "Requirement already satisfied: pyjsparser>=2.5.1 in /usr/local/lib/python3.11/dist-packages (from js2py) (2.7.1)\n"
          ]
        }
      ]
    },
    {
      "cell_type": "code",
      "source": [
        "!pip install --quiet opencv-contrib-python-headless\n",
        "\n",
        "import cv2\n",
        "import numpy as np\n",
        "import matplotlib.pyplot as plt\n",
        "import os\n",
        "\n",
        "# CONFIG\n",
        "REFERENCE_PATH = \"PHOTO.JPG\"  # upload this via sidebar or files.upload()\n",
        "FACE_SIZE = (200, 200)\n",
        "THRESHOLD = 80  # LBPH: lower confidence = better match\n",
        "\n",
        "# Load cascade\n",
        "face_cascade = cv2.CascadeClassifier(cv2.data.haarcascades + \"haarcascade_frontalface_default.xml\")\n",
        "\n",
        "def show_image(img_bgr, title=\"\"):\n",
        "    img_rgb = cv2.cvtColor(img_bgr, cv2.COLOR_BGR2RGB)\n",
        "    plt.figure(figsize=(4,4))\n",
        "    plt.imshow(img_rgb)\n",
        "    plt.title(title)\n",
        "    plt.axis(\"off\")\n",
        "    plt.show()\n",
        "\n",
        "def extract_face_from_bgr(img_bgr):\n",
        "    gray = cv2.cvtColor(img_bgr, cv2.COLOR_BGR2GRAY)\n",
        "    faces = face_cascade.detectMultiScale(gray, scaleFactor=1.1, minNeighbors=4)\n",
        "    if len(faces) == 0:\n",
        "        return None\n",
        "    x, y, w, h = sorted(faces, key=lambda r: r[2]*r[3], reverse=True)[0]\n",
        "    face = gray[y:y+h, x:x+w]\n",
        "    face = cv2.resize(face, FACE_SIZE)\n",
        "    return face\n",
        "\n",
        "# Load reference\n",
        "if not os.path.exists(REFERENCE_PATH):\n",
        "    raise RuntimeError(f\"Reference image '{REFERENCE_PATH}' not found. Upload it (name it PHOTO.JPG).\")\n",
        "\n",
        "ref_img = cv2.imread(REFERENCE_PATH)\n",
        "if ref_img is None:\n",
        "    raise RuntimeError(\"Failed to read reference image.\")\n",
        "\n",
        "ref_face = extract_face_from_bgr(ref_img)\n",
        "if ref_face is None:\n",
        "    raise RuntimeError(\"No face detected in reference image. Use a clear frontal photo.\")\n",
        "\n",
        "# Train LBPH\n",
        "recognizer = cv2.face.LBPHFaceRecognizer_create()\n",
        "recognizer.train([ref_face], np.array([0], dtype=np.int32))\n",
        "\n",
        "print(\"[*] Reference loaded and recognizer trained.\")\n",
        "show_image(ref_img, \"Reference Image\")\n"
      ],
      "metadata": {
        "colab": {
          "base_uri": "https://localhost:8080/",
          "height": 250
        },
        "id": "3RPRn4MLt2j3",
        "outputId": "a987e7b0-79a2-411b-c8e3-c99f164c4194"
      },
      "execution_count": null,
      "outputs": [
        {
          "output_type": "stream",
          "name": "stdout",
          "text": [
            "[*] Reference loaded and recognizer trained.\n"
          ]
        },
        {
          "output_type": "display_data",
          "data": {
            "text/plain": [
              "<Figure size 400x400 with 1 Axes>"
            ],
            "image/png": "[encoded data removed]"
          },
          "metadata": {}
        }
      ]
    },
    {
      "cell_type": "code",
      "source": [
        "from IPython.display import HTML, display\n",
        "from google.colab import output\n",
        "\n",
        "# Inject JS by rendering as HTML (avoids DataCloneError)\n",
        "display(HTML(\"\"\"\n",
        "<div id=\"status\">Initializing webcam...</div>\n",
        "<script>\n",
        "window.captureReady = false;\n",
        "window.setupVideo = async function() {\n",
        "  if (!window.videoElem) {\n",
        "    window.videoElem = document.createElement('video');\n",
        "    window.videoElem.style.width = '320px';\n",
        "    window.videoElem.style.height = '240px';\n",
        "    window.videoElem.autoplay = true;\n",
        "    window.videoElem.muted = true;\n",
        "    window.videoElem.playsInline = true;\n",
        "    document.body.appendChild(window.videoElem);\n",
        "    try {\n",
        "      window.stream = await navigator.mediaDevices.getUserMedia({ video: true });\n",
        "      window.videoElem.srcObject = window.stream;\n",
        "      await window.videoElem.play();\n",
        "      window.captureReady = true;\n",
        "      document.getElementById(\"status\").innerText = \"Webcam ready.\";\n",
        "    } catch (e) {\n",
        "      document.getElementById(\"status\").innerText = \"Camera access denied or unavailable.\";\n",
        "      console.error(e);\n",
        "    }\n",
        "  }\n",
        "};\n",
        "\n",
        "window.captureFace = async function() {\n",
        "  if (!window.captureReady) {\n",
        "    await window.setupVideo();\n",
        "    await new Promise(res => setTimeout(res, 300));\n",
        "  }\n",
        "  if (!window.videoElem) {\n",
        "    return null;\n",
        "  }\n",
        "  const canvas = document.createElement('canvas');\n",
        "  canvas.width = 320;\n",
        "  canvas.height = 240;\n",
        "  const ctx = canvas.getContext('2d');\n",
        "  ctx.drawImage(window.videoElem, 0, 0, canvas.width, canvas.height);\n",
        "  return canvas.toDataURL('image/jpeg');\n",
        "};\n",
        "</script>\n",
        "\"\"\"))\n",
        "\n",
        "# Now initialize the webcam stream\n",
        "output.eval_js(\"setupVideo()\")\n"
      ],
      "metadata": {
        "colab": {
          "base_uri": "https://localhost:8080/",
          "height": 279
        },
        "id": "zl8_5ZDhvj9k",
        "outputId": "dec4664b-a694-4591-898f-dda38cb50305"
      },
      "execution_count": null,
      "outputs": [
        {
          "output_type": "display_data",
          "data": {
            "text/plain": [
              "<IPython.core.display.HTML object>"
            ],
            "text/html": [
              "\n",
              "<div id=\"status\">Initializing webcam...</div>\n",
              "<script>\n",
              "window.captureReady = false;\n",
              "window.setupVideo = async function() {\n",
              "  if (!window.videoElem) {\n",
              "    window.videoElem = document.createElement('video');\n",
              "    window.videoElem.style.width = '320px';\n",
              "    window.videoElem.style.height = '240px';\n",
              "    window.videoElem.autoplay = true;\n",
              "    window.videoElem.muted = true;\n",
              "    window.videoElem.playsInline = true;\n",
              "    document.body.appendChild(window.videoElem);\n",
              "    try {\n",
              "      window.stream = await navigator.mediaDevices.getUserMedia({ video: true });\n",
              "      window.videoElem.srcObject = window.stream;\n",
              "      await window.videoElem.play();\n",
              "      window.captureReady = true;\n",
              "      document.getElementById(\"status\").innerText = \"Webcam ready.\";\n",
              "    } catch (e) {\n",
              "      document.getElementById(\"status\").innerText = \"Camera access denied or unavailable.\";\n",
              "      console.error(e);\n",
              "    }\n",
              "  }\n",
              "};\n",
              "\n",
              "window.captureFace = async function() {\n",
              "  if (!window.captureReady) {\n",
              "    await window.setupVideo();\n",
              "    await new Promise(res => setTimeout(res, 300));\n",
              "  }\n",
              "  if (!window.videoElem) {\n",
              "    return null;\n",
              "  }\n",
              "  const canvas = document.createElement('canvas');\n",
              "  canvas.width = 320;\n",
              "  canvas.height = 240;\n",
              "  const ctx = canvas.getContext('2d');\n",
              "  ctx.drawImage(window.videoElem, 0, 0, canvas.width, canvas.height);\n",
              "  return canvas.toDataURL('image/jpeg');\n",
              "};\n",
              "</script>\n"
            ]
          },
          "metadata": {}
        }
      ]
    },
    {
      "cell_type": "code",
      "source": [
        "import ipywidgets as widgets\n",
        "import base64\n",
        "import cv2\n",
        "import numpy as np\n",
        "from google.colab import output\n",
        "import matplotlib.pyplot as plt\n",
        "from IPython.display import HTML, display\n",
        "\n",
        "# --- Expect that recognizer, face_cascade, FACE_SIZE, THRESHOLD are in scope from prior cell ---\n",
        "\n",
        "# Inject JS once via HTML so functions exist globally\n",
        "display(HTML(\"\"\"\n",
        "<div id=\"status\">Initializing webcam...</div>\n",
        "<script>\n",
        "window.captureReady = false;\n",
        "window.setupVideo = async function() {\n",
        "  if (!window.videoElem) {\n",
        "    window.videoElem = document.createElement('video');\n",
        "    window.videoElem.style.width = '320px';\n",
        "    window.videoElem.style.height = '240px';\n",
        "    window.videoElem.autoplay = true;\n",
        "    window.videoElem.muted = true;\n",
        "    window.videoElem.playsInline = true;\n",
        "    document.body.appendChild(window.videoElem);\n",
        "    try {\n",
        "      window.stream = await navigator.mediaDevices.getUserMedia({ video: true });\n",
        "      window.videoElem.srcObject = window.stream;\n",
        "      await window.videoElem.play();\n",
        "      window.captureReady = true;\n",
        "      document.getElementById(\"status\").innerText = \"Webcam ready.\";\n",
        "    } catch (e) {\n",
        "      document.getElementById(\"status\").innerText = \"Camera access denied or unavailable.\";\n",
        "      console.error(e);\n",
        "    }\n",
        "  }\n",
        "};\n",
        "\n",
        "window.captureFace = async function() {\n",
        "  if (!window.captureReady) {\n",
        "    await window.setupVideo();\n",
        "    await new Promise(res => setTimeout(res, 300));\n",
        "  }\n",
        "  if (!window.videoElem) {\n",
        "    return null;\n",
        "  }\n",
        "  const canvas = document.createElement('canvas');\n",
        "  canvas.width = 320;\n",
        "  canvas.height = 240;\n",
        "  const ctx = canvas.getContext('2d');\n",
        "  ctx.drawImage(window.videoElem, 0, 0, canvas.width, canvas.height);\n",
        "  return canvas.toDataURL('image/jpeg');\n",
        "};\n",
        "</script>\n",
        "\"\"\"))\n",
        "\n",
        "# Kick off webcam\n",
        "_ = output.eval_js(\"setupVideo()\")\n",
        "\n",
        "# Helper conversions\n",
        "def data_url_to_bgr(data_url):\n",
        "    header, encoded = data_url.split(\",\", 1)\n",
        "    img_bytes = base64.b64decode(encoded)\n",
        "    arr = np.frombuffer(img_bytes, np.uint8)\n",
        "    img = cv2.imdecode(arr, cv2.IMREAD_COLOR)\n",
        "    return img\n",
        "\n",
        "def verify_frame(frame_bgr):\n",
        "    gray = cv2.cvtColor(frame_bgr, cv2.COLOR_BGR2GRAY)\n",
        "    faces = face_cascade.detectMultiScale(gray, scaleFactor=1.1, minNeighbors=4)\n",
        "    annotated = frame_bgr.copy()\n",
        "    if len(faces) == 0:\n",
        "        return False, None, annotated\n",
        "    x, y, w, h = sorted(faces, key=lambda r: r[2]*r[3], reverse=True)[0]\n",
        "    face = gray[y:y+h, x:x+w]\n",
        "    face_resized = cv2.resize(face, FACE_SIZE)\n",
        "    label, confidence = recognizer.predict(face_resized)\n",
        "    match = confidence < THRESHOLD\n",
        "    text = \"MATCH\" if match else \"NOT MATCH\"\n",
        "    color = (0,255,0) if match else (0,0,255)\n",
        "    cv2.rectangle(annotated, (x, y), (x+w, y+h), color, 2)\n",
        "    cv2.putText(annotated, f\"{text} ({confidence:.1f})\", (x, y - 10),\n",
        "                cv2.FONT_HERSHEY_SIMPLEX, 0.7, color, 2)\n",
        "    return match, confidence, annotated\n",
        "\n",
        "def capture_and_verify():\n",
        "    try:\n",
        "        data_url = output.eval_js(\"captureFace()\")\n",
        "    except Exception as e:\n",
        "        print(\"JS call failed:\", e)\n",
        "        return\n",
        "    if not data_url or not data_url.startswith(\"data:image\"):\n",
        "        print(\"Failed to capture image from webcam.\")\n",
        "        return\n",
        "    frame = data_url_to_bgr(data_url)\n",
        "    if frame is None:\n",
        "        print(\"Decoding failed.\")\n",
        "        return\n",
        "    match, confidence, annotated = verify_frame(frame)\n",
        "    if confidence is None:\n",
        "        print(\"No face detected in live capture.\")\n",
        "    else:\n",
        "        status = \"✅ MATCH\" if match else \"❌ NOT MATCH\"\n",
        "        print(f\"{status} (confidence: {confidence:.1f}, threshold: {THRESHOLD})\")\n",
        "    # show annotated image\n",
        "    img_rgb = cv2.cvtColor(annotated, cv2.COLOR_BGR2RGB)\n",
        "    plt.figure(figsize=(4,4))\n",
        "    plt.imshow(img_rgb)\n",
        "    plt.title(\"Live Verification\")\n",
        "    plt.axis(\"off\")\n",
        "    plt.show()\n",
        "\n",
        "# Button UI\n",
        "button = widgets.Button(description=\"Capture & Verify\", button_style=\"info\")\n",
        "out = widgets.Output()\n",
        "\n",
        "def on_click(b):\n",
        "    with out:\n",
        "        out.clear_output()\n",
        "        capture_and_verify()\n",
        "\n",
        "button.on_click(on_click)\n",
        "display(button, out)\n"
      ],
      "metadata": {
        "colab": {
          "base_uri": "https://localhost:8080/",
          "height": 311,
          "referenced_widgets": [
            "f2398c2d6dfe417cbfbb556b97227fa2",
            "d1cba48329544b7fb272d340f2d60264",
            "b1bc71776339443d87245ca6e61f2d16",
            "b1e6daed8305443fb67b5cce5d70f303",
            "bc5f3d917a524d20813d46341c6af5c4"
          ]
        },
        "id": "QZEdgut3xGzi",
        "outputId": "e3e5dff5-7990-4407-bbbe-8619d9a95e43"
      },
      "execution_count": null,
      "outputs": [
        {
          "output_type": "display_data",
          "data": {
            "text/plain": [
              "<IPython.core.display.HTML object>"
            ],
            "text/html": [
              "\n",
              "<div id=\"status\">Initializing webcam...</div>\n",
              "<script>\n",
              "window.captureReady = false;\n",
              "window.setupVideo = async function() {\n",
              "  if (!window.videoElem) {\n",
              "    window.videoElem = document.createElement('video');\n",
              "    window.videoElem.style.width = '320px';\n",
              "    window.videoElem.style.height = '240px';\n",
              "    window.videoElem.autoplay = true;\n",
              "    window.videoElem.muted = true;\n",
              "    window.videoElem.playsInline = true;\n",
              "    document.body.appendChild(window.videoElem);\n",
              "    try {\n",
              "      window.stream = await navigator.mediaDevices.getUserMedia({ video: true });\n",
              "      window.videoElem.srcObject = window.stream;\n",
              "      await window.videoElem.play();\n",
              "      window.captureReady = true;\n",
              "      document.getElementById(\"status\").innerText = \"Webcam ready.\";\n",
              "    } catch (e) {\n",
              "      document.getElementById(\"status\").innerText = \"Camera access denied or unavailable.\";\n",
              "      console.error(e);\n",
              "    }\n",
              "  }\n",
              "};\n",
              "\n",
              "window.captureFace = async function() {\n",
              "  if (!window.captureReady) {\n",
              "    await window.setupVideo();\n",
              "    await new Promise(res => setTimeout(res, 300));\n",
              "  }\n",
              "  if (!window.videoElem) {\n",
              "    return null;\n",
              "  }\n",
              "  const canvas = document.createElement('canvas');\n",
              "  canvas.width = 320;\n",
              "  canvas.height = 240;\n",
              "  const ctx = canvas.getContext('2d');\n",
              "  ctx.drawImage(window.videoElem, 0, 0, canvas.width, canvas.height);\n",
              "  return canvas.toDataURL('image/jpeg');\n",
              "};\n",
              "</script>\n"
            ]
          },
          "metadata": {}
        },
        {
          "output_type": "display_data",
          "data": {
            "text/plain": [
              "Button(button_style='info', description='Capture & Verify', style=ButtonStyle())"
            ],
            "application/vnd.jupyter.widget-view+json": {
              "version_major": 2,
              "version_minor": 0,
              "model_id": "f2398c2d6dfe417cbfbb556b97227fa2"
            }
          },
          "metadata": {}
        },
        {
          "output_type": "display_data",
          "data": {
            "text/plain": [
              "Output()"
            ],
            "application/vnd.jupyter.widget-view+json": {
              "version_major": 2,
              "version_minor": 0,
              "model_id": "b1e6daed8305443fb67b5cce5d70f303"
            }
          },
          "metadata": {}
        }
      ]
    },
    {
      "cell_type": "code",
      "source": [],
      "metadata": {
        "id": "bFguWMpBx1Ti"
      },
      "execution_count": null,
      "outputs": []
    }
  ]
}